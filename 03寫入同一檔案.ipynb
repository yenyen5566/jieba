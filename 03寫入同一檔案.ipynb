{
 "cells": [
  {
   "cell_type": "code",
   "execution_count": 1,
   "metadata": {
    "collapsed": true
   },
   "outputs": [],
   "source": [
    "all_data = [\n",
    "'Taipei',\n",
    "'Zhongzheng',\n",
    "'Zhongshan',\n",
    "'Wen_Shan',\n",
    "'Wanhua',\n",
    "'SongShan',\n",
    "'Neihu',\n",
    "'Nangang',\n",
    "'HsinYi',\n",
    "'Datong',\n",
    "'Daan',\n",
    "'BigShiLin',\n",
    "'BigPeitou',\n",
    "'BigBanciao',\n",
    "'BigSanchung' , \n",
    "'HsinChuang',  \n",
    "'HsinTien' , \n",
    "'LinKou',\n",
    "'N_E_Coastal',\n",
    "'North_Coast',  \n",
    "'San_Ying' ,\n",
    "'Shu_Lin',\n",
    "'ShuangHe', \n",
    "'Sijhih',  \n",
    "'SK_SD_PL', \n",
    "'TaiShan',  \n",
    "'TamShui', \n",
    "'TuCheng',  \n",
    "'WuGu_BaLi'] "
   ]
  },
  {
   "cell_type": "code",
   "execution_count": 4,
   "metadata": {},
   "outputs": [
    {
     "name": "stdout",
     "output_type": "stream",
     "text": [
      "Collecting sqlite\n",
      "  Downloading sqlite-99.0.tar.gz\n",
      "    Complete output from command python setup.py egg_info:\n",
      "    Traceback (most recent call last):\n",
      "      File \"<string>\", line 1, in <module>\n",
      "      File \"C:\\Users\\BIGDAT~1\\AppData\\Local\\Temp\\pip-build-yvre76vk\\sqlite\\setup.py\", line 2, in <module>\n",
      "        raise RuntimeError(\"Package 'sqlite' must not be downloaded from pypi\")\n",
      "    RuntimeError: Package 'sqlite' must not be downloaded from pypi\n",
      "    \n",
      "    ----------------------------------------\n"
     ]
    },
    {
     "name": "stderr",
     "output_type": "stream",
     "text": [
      "Command \"python setup.py egg_info\" failed with error code 1 in C:\\Users\\BIGDAT~1\\AppData\\Local\\Temp\\pip-build-yvre76vk\\sqlite\\\n"
     ]
    }
   ],
   "source": [
    "!pip install sqlite"
   ]
  },
  {
   "cell_type": "code",
   "execution_count": 2,
   "metadata": {},
   "outputs": [
    {
     "ename": "NameError",
     "evalue": "name 'sqlite3' is not defined",
     "output_type": "error",
     "traceback": [
      "\u001b[1;31m---------------------------------------------------------------------------\u001b[0m",
      "\u001b[1;31mNameError\u001b[0m                                 Traceback (most recent call last)",
      "\u001b[1;32m<ipython-input-2-8a2873d46607>\u001b[0m in \u001b[0;36m<module>\u001b[1;34m()\u001b[0m\n\u001b[1;32m----> 1\u001b[1;33m \u001b[1;32mwith\u001b[0m \u001b[0msqlite3\u001b[0m\u001b[1;33m.\u001b[0m\u001b[0mconnect\u001b[0m\u001b[1;33m(\u001b[0m\u001b[1;34m'mining.sqlite'\u001b[0m\u001b[1;33m)\u001b[0m \u001b[1;32mas\u001b[0m \u001b[0mconn\u001b[0m\u001b[1;33m:\u001b[0m\u001b[1;33m\u001b[0m\u001b[0m\n\u001b[0m\u001b[0;32m      2\u001b[0m         \u001b[0mc\u001b[0m \u001b[1;33m=\u001b[0m \u001b[0mconn\u001b[0m\u001b[1;33m.\u001b[0m\u001b[0mcursor\u001b[0m\u001b[1;33m(\u001b[0m\u001b[1;33m)\u001b[0m\u001b[1;33m\u001b[0m\u001b[0m\n\u001b[0;32m      3\u001b[0m         \u001b[0mresult\u001b[0m \u001b[1;33m=\u001b[0m \u001b[0mlist\u001b[0m\u001b[1;33m(\u001b[0m\u001b[0mc\u001b[0m\u001b[1;33m.\u001b[0m\u001b[0mexecute\u001b[0m\u001b[1;33m(\u001b[0m\u001b[1;34m'select * from Daan ;'\u001b[0m\u001b[1;33m)\u001b[0m\u001b[1;33m)\u001b[0m\u001b[1;33m\u001b[0m\u001b[0m\n\u001b[0;32m      4\u001b[0m \u001b[1;32mfor\u001b[0m \u001b[0mi\u001b[0m \u001b[1;32min\u001b[0m \u001b[0mresult\u001b[0m\u001b[1;33m:\u001b[0m\u001b[1;33m\u001b[0m\u001b[0m\n\u001b[0;32m      5\u001b[0m     \u001b[0mprint\u001b[0m\u001b[1;33m(\u001b[0m\u001b[0mi\u001b[0m\u001b[1;33m[\u001b[0m\u001b[1;36m2\u001b[0m\u001b[1;33m]\u001b[0m\u001b[1;33m)\u001b[0m\u001b[1;33m\u001b[0m\u001b[0m\n",
      "\u001b[1;31mNameError\u001b[0m: name 'sqlite3' is not defined"
     ]
    }
   ],
   "source": [
    "with sqlite3.connect('mining.sqlite') as conn: \n",
    "        c = conn.cursor()\n",
    "        result = list(c.execute('select * from Daan ;'))\n",
    "for i in result:\n",
    "    print(i[2])"
   ]
  },
  {
   "cell_type": "code",
   "execution_count": null,
   "metadata": {
    "collapsed": true
   },
   "outputs": [],
   "source": [
    "def make_txt(abc):\n",
    "    for i in abc:\n",
    "        with sqlite3.connect('mining.sqlite') as conn: \n",
    "            c = conn.cursor()\n",
    "            result = list(c.execute('select * from {} ;'.format(i)))\n",
    "\n",
    "        with open('{}.csv'.format(i),'w') as f:\n",
    "            for r in result:\n",
    "                final = str(r[1]) + ',' + str(r[2]) + '\\n'\n",
    "                f.write(final)"
   ]
  },
  {
   "cell_type": "code",
   "execution_count": null,
   "metadata": {
    "collapsed": true
   },
   "outputs": [],
   "source": [
    "make_txt(all_data)"
   ]
  },
  {
   "cell_type": "code",
   "execution_count": null,
   "metadata": {
    "collapsed": true
   },
   "outputs": [],
   "source": []
  },
  {
   "cell_type": "code",
   "execution_count": null,
   "metadata": {
    "collapsed": true
   },
   "outputs": [],
   "source": []
  },
  {
   "cell_type": "code",
   "execution_count": null,
   "metadata": {
    "collapsed": true
   },
   "outputs": [],
   "source": []
  }
 ],
 "metadata": {
  "kernelspec": {
   "display_name": "Python 3",
   "language": "python",
   "name": "python3"
  },
  "language_info": {
   "codemirror_mode": {
    "name": "ipython",
    "version": 3
   },
   "file_extension": ".py",
   "mimetype": "text/x-python",
   "name": "python",
   "nbconvert_exporter": "python",
   "pygments_lexer": "ipython3",
   "version": "3.6.1"
  }
 },
 "nbformat": 4,
 "nbformat_minor": 2
}
